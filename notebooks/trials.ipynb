{
 "cells": [
  {
   "cell_type": "code",
   "execution_count": 1,
   "metadata": {},
   "outputs": [
    {
     "data": {
      "text/plain": [
       "'c:\\\\Users\\\\Asus_M\\\\Desktop\\\\accounting-chatbot\\\\notebooks'"
      ]
     },
     "execution_count": 1,
     "metadata": {},
     "output_type": "execute_result"
    }
   ],
   "source": [
    "%pwd"
   ]
  },
  {
   "cell_type": "code",
   "execution_count": 2,
   "metadata": {},
   "outputs": [],
   "source": [
    "import os\n",
    "os.chdir(\"../\")"
   ]
  },
  {
   "cell_type": "code",
   "execution_count": 3,
   "metadata": {},
   "outputs": [
    {
     "data": {
      "text/plain": [
       "'c:\\\\Users\\\\Asus_M\\\\Desktop\\\\accounting-chatbot'"
      ]
     },
     "execution_count": 3,
     "metadata": {},
     "output_type": "execute_result"
    }
   ],
   "source": [
    "%pwd"
   ]
  },
  {
   "cell_type": "code",
   "execution_count": 11,
   "metadata": {},
   "outputs": [],
   "source": [
    "from langchain.document_loaders import PyPDFLoader,DirectoryLoader\n",
    "from langchain.text_splitter import RecursiveCharacterTextSplitter\n",
    "from langchain_huggingface import HuggingFaceEmbeddings\n",
    "from langchain_pinecone import PineconeVectorStore\n",
    "from langchain_groq import ChatGroq\n",
    "from dotenv import load_dotenv\n",
    "import warnings\n",
    "warnings.filterwarnings(\"ignore\")"
   ]
  },
  {
   "cell_type": "markdown",
   "metadata": {},
   "source": [
    "#### Extract the data from the PDF:"
   ]
  },
  {
   "cell_type": "code",
   "execution_count": 12,
   "metadata": {},
   "outputs": [],
   "source": [
    "def load_pdf_file(data):\n",
    "    loader = DirectoryLoader(data,\n",
    "                             glob = \"*.pdf\",\n",
    "                             loader_cls = PyPDFLoader)\n",
    "    documents = loader.load()\n",
    "    return documents"
   ]
  },
  {
   "cell_type": "code",
   "execution_count": 13,
   "metadata": {},
   "outputs": [],
   "source": [
    "extracted_data = load_pdf_file(data = \"data/\")"
   ]
  },
  {
   "cell_type": "markdown",
   "metadata": {},
   "source": [
    "#### Split the data into Text chunks:"
   ]
  },
  {
   "cell_type": "code",
   "execution_count": 14,
   "metadata": {},
   "outputs": [],
   "source": [
    "def text_split(extracted_data):\n",
    "    text_splitter = RecursiveCharacterTextSplitter(\n",
    "        chunk_size =500,\n",
    "        chunk_overlap = 20\n",
    "    )\n",
    "    text_chunks = text_splitter.split_documents(extracted_data)\n",
    "    return text_chunks"
   ]
  },
  {
   "cell_type": "code",
   "execution_count": 15,
   "metadata": {},
   "outputs": [
    {
     "name": "stdout",
     "output_type": "stream",
     "text": [
      "Length odf text chunks : 2285\n"
     ]
    }
   ],
   "source": [
    "text_chunks = text_split(extracted_data)\n",
    "print(\"Length odf text chunks :\",len(text_chunks))"
   ]
  },
  {
   "cell_type": "markdown",
   "metadata": {},
   "source": [
    "#### Download Embedding Model from Hugging Face Hub:"
   ]
  },
  {
   "cell_type": "code",
   "execution_count": 16,
   "metadata": {},
   "outputs": [],
   "source": [
    "def download_hugging_face_embeddings():\n",
    "    embeddings = HuggingFaceEmbeddings(\n",
    "        model_name = \"sentence-transformers/all-MiniLM-L6-v2\"\n",
    "    )\n",
    "    return embeddings"
   ]
  },
  {
   "cell_type": "code",
   "execution_count": 17,
   "metadata": {},
   "outputs": [],
   "source": [
    "embeddings = download_hugging_face_embeddings()"
   ]
  },
  {
   "cell_type": "markdown",
   "metadata": {},
   "source": [
    "##### Testing the enbedding model :"
   ]
  },
  {
   "cell_type": "code",
   "execution_count": 18,
   "metadata": {},
   "outputs": [
    {
     "name": "stdout",
     "output_type": "stream",
     "text": [
      "length : 384\n"
     ]
    }
   ],
   "source": [
    "query_result = embeddings.embed_query(\"Hello world!\")\n",
    "print(\"length :\",len(query_result))"
   ]
  },
  {
   "cell_type": "code",
   "execution_count": 19,
   "metadata": {},
   "outputs": [],
   "source": [
    "load_dotenv()\n",
    "PINECONE_API_KEY = os.environ.get(\"PINECONE_API_KEY\")\n",
    "GROQ_API_KEY = os.environ.get(\"GROQ_API_KEY\")"
   ]
  },
  {
   "cell_type": "code",
   "execution_count": 20,
   "metadata": {},
   "outputs": [],
   "source": [
    "os.environ[\"PINECONE_API_KEY\"] = PINECONE_API_KEY\n",
    "os.environ[\"GROQ_API_KEY\"] = GROQ_API_KEY"
   ]
  },
  {
   "cell_type": "code",
   "execution_count": 21,
   "metadata": {},
   "outputs": [],
   "source": [
    "from pinecone import ServerlessSpec\n",
    "from pinecone.grpc  import  PineconeGRPC as Pinecone\n",
    "\n",
    "pc = Pinecone(api_key = PINECONE_API_KEY)\n",
    "\n",
    "index_name = \"comptachatbot\"\n",
    "pc.create_index(\n",
    "    name=index_name,\n",
    "    dimension= 384,\n",
    "    metric=\"cosine\",\n",
    "    spec=ServerlessSpec(\n",
    "        cloud=\"aws\",\n",
    "        region=\"us-east-1\"\n",
    "    ) \n",
    ")"
   ]
  },
  {
   "cell_type": "markdown",
   "metadata": {},
   "source": [
    "##### Embed each chunk and upsert the embeddings into Pinecone index:"
   ]
  },
  {
   "cell_type": "code",
   "execution_count": 22,
   "metadata": {},
   "outputs": [],
   "source": [
    "docsearch = PineconeVectorStore.from_documents(\n",
    "    documents = text_chunks,\n",
    "    index_name=index_name,\n",
    "    embedding=embeddings\n",
    "    )"
   ]
  },
  {
   "cell_type": "markdown",
   "metadata": {},
   "source": [
    "##### Loading the existing Pinecone index:"
   ]
  },
  {
   "cell_type": "code",
   "execution_count": 23,
   "metadata": {},
   "outputs": [],
   "source": [
    "docsearch = PineconeVectorStore.from_existing_index(\n",
    "    index_name=index_name,\n",
    "    embedding=embeddings\n",
    "    )"
   ]
  },
  {
   "cell_type": "code",
   "execution_count": 24,
   "metadata": {},
   "outputs": [],
   "source": [
    "retriever = docsearch.as_retriever(\n",
    "    search_type = \"similarity\",\n",
    "    search_kwargs = {\"k\" :3}\n",
    ")"
   ]
  },
  {
   "cell_type": "code",
   "execution_count": 26,
   "metadata": {},
   "outputs": [],
   "source": [
    "retrieved_docs = retriever.invoke(\"Expliquer LES COÛTS MARGINAUX ET LES COÛTS DIFFERENTIELS\")"
   ]
  },
  {
   "cell_type": "code",
   "execution_count": 27,
   "metadata": {},
   "outputs": [
    {
     "data": {
      "text/plain": [
       "[Document(id='ffd73305-580c-40aa-a46b-db77d6b043a4', metadata={'page': 50.0, 'source': 'data\\\\6606030.pdf'}, page_content='Il n’est guère possible de relier les différents coûts par tiels à une typologie simple des entreprises ou des marchés \\nsur lesquels elles opèrent. C’est pourquoi nous présente rons successivement les principales familles de coûts \\npartiels en mentionnant à chaque fois les différents problèmes qu’elles sont le plus aptes à résoudre. \\n2 Les coûts partiels : fondements techniques et \\norganisationnels'),\n",
       " Document(id='25f35fd1-5bc8-481a-8400-a2094ba0470a', metadata={'page': 62.0, 'source': 'data\\\\6606030.pdf'}, page_content='coût de la voiture supplémentaire n’est pas considéré ici comme variable par rapport au nombre de passagers mais par rapport à la seule distance. Le coût de l’accroisse ment de capacité fait donc partie du coût marginal et a \\nfortiori du coût différentiel, alors qu’il ne fait partie du coût variable que s’il entraîne des coûts variables \\nsupplémentaires, ce qui n’est pas le cas dans notre exemple. En conclusion de ce premier exemple, on peut énoncer la règle suivante :'),\n",
       " Document(id='6e7ef72c-1d9e-43ce-9ab0-bdd02ea2cfc7', metadata={'page': 234.0, 'source': 'data\\\\6606030.pdf'}, page_content='VI – Différents champs d’application \\ndes coûts pour une mise sous tension \\nde l’organisation \\nDans le chapitre 1, nous avons vu différentes définitions  possibles du contenu d’un coût : complet, variable, \\nmarginal, etc. Dans le chapitre 2, notamment avec les analyses d’écart, nous avons vu varier le moment de calcul \\nd’un coût : ex post ou ex ante et écart entre ces deux valeurs. Mais, dans ces deux chapitres, il s’agissait toujours')]"
      ]
     },
     "execution_count": 27,
     "metadata": {},
     "output_type": "execute_result"
    }
   ],
   "source": [
    "retrieved_docs"
   ]
  },
  {
   "cell_type": "code",
   "execution_count": 28,
   "metadata": {},
   "outputs": [],
   "source": [
    "llm = ChatGroq(model=\"llama-3.1-70b-versatile\",\n",
    "               temperature=0,\n",
    "               max_tokens=500)"
   ]
  },
  {
   "cell_type": "code",
   "execution_count": 29,
   "metadata": {},
   "outputs": [],
   "source": [
    "from langchain.chains import create_retrieval_chain\n",
    "from langchain.chains.combine_documents import create_stuff_documents_chain\n",
    "from langchain_core.prompts import ChatPromptTemplate"
   ]
  },
  {
   "cell_type": "code",
   "execution_count": 30,
   "metadata": {},
   "outputs": [],
   "source": [
    "system_prompt = (\"Vous êtes un assistant pour une tâche de réponse à des questions. \"\n",
    "                 \"Utilisez le contexte suivant pour répondre à la question. \"\n",
    "                 \"Si vous ne connaissez pas la réponse, dites que vous ne savez pas. \"\n",
    "                 \"Utilisez au maximum trois phrases et gardez la réponse concise. \"\n",
    "                 \"\\n\\n\"\n",
    "                 \"{context}\"\n",
    "                 )\n",
    "prompt = ChatPromptTemplate(\n",
    "    [\n",
    "        (\"system\",system_prompt),\n",
    "        (\"human\",\"{input}\")\n",
    "    ]\n",
    ")"
   ]
  },
  {
   "cell_type": "code",
   "execution_count": 31,
   "metadata": {},
   "outputs": [],
   "source": [
    "question_answer_chain = create_stuff_documents_chain(llm,prompt)\n",
    "rag_chain = create_retrieval_chain(retriever,question_answer_chain)"
   ]
  },
  {
   "cell_type": "code",
   "execution_count": 32,
   "metadata": {},
   "outputs": [
    {
     "name": "stdout",
     "output_type": "stream",
     "text": [
      "Les coûts marginaux et les coûts différentiels sont deux concepts liés mais distincts en comptabilité et en économie.\n",
      "\n",
      "Le coût marginal est le coût supplémentaire engagé pour produire une unité supplémentaire d'un bien ou d'un service. Il représente la variation du coût total lorsque la production augmente d'une unité.\n",
      "\n",
      "Le coût différentiel, quant à lui, est la variation du coût total lorsque la production augmente d'une certaine quantité, mais pas nécessairement d'une unité. Il représente la différence entre le coût total de la production d'une certaine quantité et le coût total de la production d'une quantité inférieure.\n",
      "\n",
      "En d'autres termes, le coût marginal est une mesure du coût supplémentaire pour une unité supplémentaire, tandis que le coût différentiel est une mesure du coût supplémentaire pour une quantité supplémentaire.\n"
     ]
    }
   ],
   "source": [
    "response = rag_chain.invoke({\"input\":\"Expliquer LES COÛTS MARGINAUX ET LES COÛTS DIFFERENTIELS\"})\n",
    "print(response[\"answer\"])"
   ]
  },
  {
   "cell_type": "code",
   "execution_count": null,
   "metadata": {},
   "outputs": [],
   "source": []
  }
 ],
 "metadata": {
  "kernelspec": {
   "display_name": "llmops",
   "language": "python",
   "name": "python3"
  },
  "language_info": {
   "codemirror_mode": {
    "name": "ipython",
    "version": 3
   },
   "file_extension": ".py",
   "mimetype": "text/x-python",
   "name": "python",
   "nbconvert_exporter": "python",
   "pygments_lexer": "ipython3",
   "version": "3.10.15"
  }
 },
 "nbformat": 4,
 "nbformat_minor": 2
}
